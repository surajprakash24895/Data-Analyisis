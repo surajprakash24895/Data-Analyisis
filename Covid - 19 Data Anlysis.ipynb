{
 "cells": [
  {
   "cell_type": "code",
   "execution_count": null,
   "metadata": {
    "scrolled": true
   },
   "outputs": [],
   "source": [
    "import pandas as pd\n",
    "import matplotlib.pyplot as plt\n",
    "from matplotlib import style\n",
    "style.use('ggplot')\n",
    "%matplotlib inline\n",
    "\n",
    "import plotly\n",
    "import plotly.express as px\n",
    "import plotly.graph_objects as go\n",
    "plt.rcParams['figure.figsize'] = 15,5\n",
    "\n",
    "import cufflinks as cf\n",
    "import plotly.offline as pyo\n",
    "from plotly.offline import init_notebook_mode,plot,iplot\n",
    "\n",
    "import folium"
   ]
  },
  {
   "cell_type": "code",
   "execution_count": null,
   "metadata": {},
   "outputs": [],
   "source": [
    "pyo.init_notebook_mode(connected=True)\n",
    "cf.go_offline()"
   ]
  },
  {
   "cell_type": "code",
   "execution_count": null,
   "metadata": {},
   "outputs": [],
   "source": [
    "df=pd.read_excel(\"C://Users//hp//Downloads//COVID//Covid_cases_in_India.xlsx\")\n",
    "df.head()"
   ]
  },
  {
   "cell_type": "code",
   "execution_count": null,
   "metadata": {},
   "outputs": [],
   "source": [
    "df.drop([\"S. No.\"],axis = 1,inplace=True)"
   ]
  },
  {
   "cell_type": "code",
   "execution_count": null,
   "metadata": {},
   "outputs": [],
   "source": [
    "df.head()"
   ]
  },
  {
   "cell_type": "code",
   "execution_count": null,
   "metadata": {},
   "outputs": [],
   "source": [
    "df.isnull().sum()"
   ]
  },
  {
   "cell_type": "code",
   "execution_count": null,
   "metadata": {},
   "outputs": [],
   "source": [
    "df[\"Total Cases\"] = df[\"Total Confirmed cases (Indian National)\"]+df[\"Total Confirmed cases ( Foreign National )\"]\n",
    "df.head()"
   ]
  },
  {
   "cell_type": "code",
   "execution_count": null,
   "metadata": {},
   "outputs": [],
   "source": [
    "total_cases=df['Total Cases'].sum()\n",
    "print(\"Overall TOTAL cases in india right now is\",total_cases)"
   ]
  },
  {
   "cell_type": "code",
   "execution_count": null,
   "metadata": {},
   "outputs": [],
   "source": [
    "df['Total_active_cases'] = df[\"Total Cases\"]-(df[\"Cured\"]+df['Death'])\n",
    "df.head()"
   ]
  },
  {
   "cell_type": "code",
   "execution_count": null,
   "metadata": {
    "scrolled": true
   },
   "outputs": [],
   "source": [
    "df.sort_values(by=\"Total_active_cases\",ascending=False).head()"
   ]
  },
  {
   "cell_type": "code",
   "execution_count": null,
   "metadata": {},
   "outputs": [],
   "source": [
    "Total_active_cases = df.groupby('Name of State / UT')['Total_active_cases'].sum().sort_values(ascending=False).to_frame()\n",
    "Total_active_cases.head()"
   ]
  },
  {
   "cell_type": "code",
   "execution_count": null,
   "metadata": {},
   "outputs": [],
   "source": [
    "Total_active_cases.style.background_gradient(cmap='Reds')"
   ]
  },
  {
   "cell_type": "code",
   "execution_count": null,
   "metadata": {},
   "outputs": [],
   "source": [
    "df.style.background_gradient(cmap='Greens')"
   ]
  },
  {
   "cell_type": "code",
   "execution_count": null,
   "metadata": {},
   "outputs": [],
   "source": [
    "#Graphical representation  "
   ]
  },
  {
   "cell_type": "code",
   "execution_count": null,
   "metadata": {},
   "outputs": [],
   "source": [
    "#pandas visualisation\n",
    "df.plot(kind = 'bar', x='Name of State / UT',y='Total_active_cases')\n",
    "plt.show()\n",
    "#plotly vis\n",
    "df.iplot(kind = 'bar', x='Name of State / UT',y='Total_active_cases')"
   ]
  },
  {
   "cell_type": "code",
   "execution_count": null,
   "metadata": {},
   "outputs": [],
   "source": [
    "#matplotlib vis\n",
    "plt.bar(df['Name of State / UT'],df['Total_active_cases'])"
   ]
  },
  {
   "cell_type": "code",
   "execution_count": null,
   "metadata": {},
   "outputs": [],
   "source": [
    "#in plotly express\n",
    "px.bar(df,x='Name of State / UT',y='Total_active_cases')"
   ]
  },
  {
   "cell_type": "code",
   "execution_count": null,
   "metadata": {},
   "outputs": [],
   "source": [
    "df.iplot(kind = 'scatter', x='Name of State / UT',y='Total_active_cases',mode='markers+lines',title='my graph',\n",
    "         xTitle='Name of State / UT',yTitle='Total_active_cases',colors='red')"
   ]
  },
  {
   "cell_type": "code",
   "execution_count": null,
   "metadata": {},
   "outputs": [],
   "source": [
    "# how to create plot by object oriented method with matplotlib and plotly\n",
    "fig =  plt.figure(figsize=(15,5))\n",
    "shw = fig.add_axes([0,0,1,1])\n",
    "shw.bar(df['Name of State / UT'],df['Total_active_cases'])\n",
    "shw.set_title('Total covid cases in india')\n",
    "plt.show()\n",
    "\n",
    "#plotly\n",
    "fig = go.Figure()\n",
    "fig.add_trace(go.Bar(x=df['Name of State / UT'],y=df['Total_active_cases']))\n",
    "fig.update_layout(title='Total covid cases in india',xaxis=dict(title='Name of State / UT'),yaxis=dict(title='Total_active_cases'))"
   ]
  },
  {
   "cell_type": "code",
   "execution_count": null,
   "metadata": {},
   "outputs": [],
   "source": [
    "Indian_cord = pd.read_excel(\"C://Users//hp//Downloads//COVID//Indian Coordinates.xlsx\")\n",
    "Indian_cord.head()"
   ]
  },
  {
   "cell_type": "code",
   "execution_count": null,
   "metadata": {},
   "outputs": [],
   "source": [
    "Indian_cord.isnull().sum()"
   ]
  },
  {
   "cell_type": "code",
   "execution_count": null,
   "metadata": {},
   "outputs": [],
   "source": [
    "df_full = pd.merge(Indian_cord,df,on='Name of State / UT')\n",
    "df_full.head()"
   ]
  },
  {
   "cell_type": "code",
   "execution_count": null,
   "metadata": {},
   "outputs": [],
   "source": [
    "map=folium.Map(location=[20,70],zoom_start=4,tiles='stamenTerrain')\n",
    "for lat,long,value,name in zip(df_full['Latitude'],df_full['Longitude'],df_full['Total Cases'],df_full['Name of State / UT']):\n",
    "    folium.CircleMarker([lat,long],radius=value*0.5,popup=('<strong>State</strong>: '+str(name).capitalize()+'<br>''<strong>Total Cases</strong>:'+str(value)+'<br>'),color='red',fill_color='red',fill_opacity=0.3).add_to(map)"
   ]
  },
  {
   "cell_type": "code",
   "execution_count": null,
   "metadata": {},
   "outputs": [],
   "source": [
    "map"
   ]
  },
  {
   "cell_type": "code",
   "execution_count": null,
   "metadata": {},
   "outputs": [],
   "source": [
    "# how coronavirus rising Globally"
   ]
  },
  {
   "cell_type": "code",
   "execution_count": null,
   "metadata": {},
   "outputs": [],
   "source": [
    "d_India = pd.read_excel(\"C://Users//hp//Downloads//COVID//per_day_cases.xlsx\",parse_dates=True,sheet_name='India')\n",
    "d_Italy = pd.read_excel(\"C://Users//hp//Downloads//COVID//per_day_cases.xlsx\",parse_dates=True,sheet_name='Italy')\n",
    "d_Korea = pd.read_excel(\"C://Users//hp//Downloads//COVID//per_day_cases.xlsx\",parse_dates=True,sheet_name='Korea')\n",
    "d_Wuhan = pd.read_excel(\"C://Users//hp//Downloads//COVID//per_day_cases.xlsx\",parse_dates=True,sheet_name='Wuhan')\n",
    "\n",
    "d_India.head()\n"
   ]
  },
  {
   "cell_type": "code",
   "execution_count": null,
   "metadata": {},
   "outputs": [],
   "source": [
    "#matplotlib\n",
    "fig=plt.figure(figsize=(10,5),dpi=200)\n",
    "axes = fig.add_axes([0.1,0.1,0.8,0.8])\n",
    "axes.bar(d_India['Date'],d_India['Total Cases'],color='blue')\n",
    "axes.set_ylabel('Date')\n",
    "axes.set_xlabel('Total Cases')\n",
    "axes.set_title('Confirmed cases in india')\n",
    "plt.show()\n",
    "\n",
    "#plotly express\n",
    "fig=px.bar(d_India,x='Date',y='Total Cases',color='Total Cases',title='Confirmed cases in india')\n",
    "fig.show()"
   ]
  },
  {
   "cell_type": "code",
   "execution_count": null,
   "metadata": {},
   "outputs": [],
   "source": [
    "fig=px.bar(d_Italy,x='Date',y='Total Cases',color='Total Cases',title='Confirmed cases in italy')\n",
    "fig.show()\n",
    "\n",
    "fig=px.bar(d_Korea,x='Date',y='Total Cases',color='Total Cases',title='Confirmed cases in korea')\n",
    "fig.show()\n",
    "\n",
    "fig=px.bar(d_Wuhan,x='Date',y='Total Cases',color='Total Cases',title='Confirmed cases in wuhan')\n",
    "fig.show()"
   ]
  },
  {
   "cell_type": "code",
   "execution_count": null,
   "metadata": {},
   "outputs": [],
   "source": [
    "#plotly\n",
    "d_India.iplot(kind='scatter',x='Date',y='Total Cases',mode='lines+markers')"
   ]
  },
  {
   "cell_type": "code",
   "execution_count": null,
   "metadata": {},
   "outputs": [],
   "source": [
    "fig = go.Figure()\n",
    "fig.add_trace(go.Scatter(x=d_India['Date'],y=d_India['Total Cases'],mode='lines+markers'))"
   ]
  },
  {
   "cell_type": "code",
   "execution_count": null,
   "metadata": {},
   "outputs": [],
   "source": [
    "from plotly.subplots import make_subplots"
   ]
  },
  {
   "cell_type": "code",
   "execution_count": null,
   "metadata": {},
   "outputs": [],
   "source": [
    "#subplot using bar graph\n",
    "fig=make_subplots(\n",
    "    rows=2,cols=2,\n",
    "    specs=[[{'secondary_y':True},{'secondary_y':True}],[{'secondary_y':True},{'secondary_y':True}]],\n",
    "    subplot_titles=('Korea','Italy','India','Wuhan'))\n",
    "\n",
    "fig.add_trace(go.Bar(x=d_Korea['Date'],y=d_Korea['Total Cases'],\n",
    "                     marker=dict(color=d_Korea['Total Cases'],coloraxis='coloraxis')),1,1)\n",
    "\n",
    "fig.add_trace(go.Bar(x=d_Italy['Date'],y=d_Italy['Total Cases'],\n",
    "                     marker=dict(color=d_Italy['Total Cases'],coloraxis='coloraxis')),1,2)\n",
    "\n",
    "fig.add_trace(go.Bar(x=d_India['Date'],y=d_India['Total Cases'],\n",
    "                     marker=dict(color=d_India['Total Cases'],coloraxis='coloraxis')),2,1)\n",
    "\n",
    "fig.add_trace(go.Bar(x=d_Wuhan['Date'],y=d_Wuhan['Total Cases'],\n",
    "                     marker=dict(color=d_Wuhan['Total Cases'],coloraxis='coloraxis')),2,2)\n",
    "\n",
    "\n",
    "#optional\n",
    "fig.update_layout(coloraxis=dict(colorscale='Bluered_r'),showlegend=False,title_text='Total cases in 4 Countries')\n",
    "\n",
    "fig.update_layout(plot_bgcolor='rgb(230,230,230)')"
   ]
  },
  {
   "cell_type": "code",
   "execution_count": null,
   "metadata": {},
   "outputs": [],
   "source": [
    "#subplot using Scatter graph\n",
    "fig=make_subplots(\n",
    "    rows=2,cols=2,\n",
    "    specs=[[{'secondary_y':True},{'secondary_y':True}],[{'secondary_y':True},{'secondary_y':True}]],\n",
    "    subplot_titles=('Korea','Italy','India','Wuhan'))\n",
    "\n",
    "fig.add_trace(go.Scatter(x=d_Korea['Date'],y=d_Korea['Total Cases'],\n",
    "                     marker=dict(color=d_Korea['Total Cases'],coloraxis='coloraxis')),1,1)\n",
    "\n",
    "fig.add_trace(go.Scatter(x=d_Italy['Date'],y=d_Italy['Total Cases'],\n",
    "                     marker=dict(color=d_Italy['Total Cases'],coloraxis='coloraxis')),1,2)\n",
    "\n",
    "fig.add_trace(go.Scatter(x=d_India['Date'],y=d_India['Total Cases'],\n",
    "                     marker=dict(color=d_India['Total Cases'],coloraxis='coloraxis')),2,1)\n",
    "\n",
    "fig.add_trace(go.Scatter(x=d_Wuhan['Date'],y=d_Wuhan['Total Cases'],\n",
    "                     marker=dict(color=d_Wuhan['Total Cases'],coloraxis='coloraxis')),2,2)\n",
    "\n",
    "\n",
    "#optional\n",
    "fig.update_layout(coloraxis=dict(colorscale='Bluered_r'),showlegend=False,title_text='Total cases in 4 Countries')\n",
    "\n",
    "fig.update_layout(plot_bgcolor='rgb(230,230,230)')"
   ]
  },
  {
   "cell_type": "code",
   "execution_count": null,
   "metadata": {},
   "outputs": [],
   "source": [
    "#World coronavirus"
   ]
  },
  {
   "cell_type": "code",
   "execution_count": null,
   "metadata": {},
   "outputs": [],
   "source": [
    "dp = pd.read_csv(\"C://Users//hp//Downloads//COVID//covid_19_data.csv\",parse_dates=['Last Update'])\n",
    "dp.head()"
   ]
  },
  {
   "cell_type": "code",
   "execution_count": null,
   "metadata": {},
   "outputs": [],
   "source": [
    "dp.rename(columns={\"ObservationDate\": \"Date\",\"Country/Region\":'Country',\"Province/State\":\"State\"},inplace = True)\n",
    "dp.head()"
   ]
  },
  {
   "cell_type": "code",
   "execution_count": null,
   "metadata": {},
   "outputs": [],
   "source": [
    "dp.isnull().sum()"
   ]
  },
  {
   "cell_type": "code",
   "execution_count": null,
   "metadata": {},
   "outputs": [],
   "source": [
    "#Mode here is \n",
    "dp.State.value_counts()"
   ]
  },
  {
   "cell_type": "code",
   "execution_count": null,
   "metadata": {},
   "outputs": [],
   "source": [
    "dp.State=dp.State.fillna(\"Gansu\")"
   ]
  },
  {
   "cell_type": "code",
   "execution_count": null,
   "metadata": {},
   "outputs": [],
   "source": [
    "dp.query('Country==\"India\"')"
   ]
  },
  {
   "cell_type": "code",
   "execution_count": null,
   "metadata": {},
   "outputs": [],
   "source": [
    "dp.groupby('Date').sum()"
   ]
  },
  {
   "cell_type": "code",
   "execution_count": null,
   "metadata": {},
   "outputs": [],
   "source": [
    "Confirmed = dp.groupby('Date').sum()['Confirmed'].reset_index()\n",
    "Deaths = dp.groupby('Date').sum()['Deaths'].reset_index()\n",
    "Recovered = dp.groupby('Date').sum()['Recovered'].reset_index()"
   ]
  },
  {
   "cell_type": "code",
   "execution_count": null,
   "metadata": {},
   "outputs": [],
   "source": [
    "fig=go.Figure()\n",
    "fig.add_trace(go.Scatter(x=Confirmed['Date'],y=Confirmed['Confirmed'],mode='lines+markers',name='Confirmed',line=dict(color='blue',width=2)))\n",
    "\n",
    "fig.add_trace(go.Scatter(x=Recovered['Date'],y=Recovered['Recovered'],mode='lines+markers',name='Recovered',line=dict(color='green',width=2)))\n",
    "\n",
    "fig.add_trace(go.Scatter(x=Deaths['Date'],y=Deaths['Deaths'],mode='lines+markers',name='Deaths',line=dict(color='red',width=2)))"
   ]
  },
  {
   "cell_type": "code",
   "execution_count": null,
   "metadata": {},
   "outputs": [],
   "source": [
    "df_confirmed = pd.read_csv(\"C://Users//hp//Downloads//COVID//time_series_covid_19_confirmed.csv\")\n",
    "df_confirmed.head()"
   ]
  },
  {
   "cell_type": "code",
   "execution_count": null,
   "metadata": {},
   "outputs": [],
   "source": [
    "df_confirmed.rename(columns={\"Country/Region\":'Country'},inplace = True)"
   ]
  },
  {
   "cell_type": "code",
   "execution_count": null,
   "metadata": {},
   "outputs": [],
   "source": [
    "df_latlong = pd.merge(dp,df_confirmed,on=[\"Country\"])"
   ]
  },
  {
   "cell_type": "code",
   "execution_count": null,
   "metadata": {},
   "outputs": [],
   "source": [
    "df_latlong.head()"
   ]
  },
  {
   "cell_type": "code",
   "execution_count": null,
   "metadata": {},
   "outputs": [],
   "source": [
    "fig=px.density_mapbox(df_latlong,lat=\"Lat\",lon=\"Long\",hover_name=\"Province/State\",hover_data=[\"Confirmed\",\"Deaths\",\"Recovered\"]\n",
    "                      ,animation_frame=\"Date\",color_continuous_scale=\"Portland\",radius=7,zoom=0,height=700)\n",
    "fig.update_layout(title=\"Worldwide Corona virus cases\")\n",
    "fig.update_layout(mapbox_style=\"open-street-map\",mapbox_center_lon=0)\n",
    "fig.update_layout(margin={\"r\":0,\"t\":0,\"l\":0,\"b\":0})"
   ]
  },
  {
   "cell_type": "code",
   "execution_count": null,
   "metadata": {},
   "outputs": [],
   "source": []
  }
 ],
 "metadata": {
  "kernelspec": {
   "display_name": "Python 3",
   "language": "python",
   "name": "python3"
  },
  "language_info": {
   "codemirror_mode": {
    "name": "ipython",
    "version": 3
   },
   "file_extension": ".py",
   "mimetype": "text/x-python",
   "name": "python",
   "nbconvert_exporter": "python",
   "pygments_lexer": "ipython3",
   "version": "3.8.5"
  }
 },
 "nbformat": 4,
 "nbformat_minor": 4
}
